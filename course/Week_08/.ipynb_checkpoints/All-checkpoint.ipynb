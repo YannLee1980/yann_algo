{
 "cells": [
  {
   "cell_type": "markdown",
   "metadata": {},
   "source": [
    "## 高级排序："
   ]
  },
  {
   "cell_type": "markdown",
   "metadata": {},
   "source": [
    "### QuickSort:"
   ]
  },
  {
   "cell_type": "code",
   "execution_count": 5,
   "metadata": {},
   "outputs": [
    {
     "data": {
      "text/plain": [
       "[3, 4, 5, 5, 6, 6, 7, 7, 8, 9]"
      ]
     },
     "execution_count": 5,
     "metadata": {},
     "output_type": "execute_result"
    }
   ],
   "source": [
    "class QuickSort:\n",
    "    def quickSort(self, nums, left, right):\n",
    "        if left >= right:\n",
    "            return None\n",
    "        pivot = self._partition(nums, left, right)\n",
    "        self.quickSort(nums, left, pivot-1)\n",
    "        self.quickSort(nums, pivot+1, right)\n",
    "    \n",
    "    def _partition(self, nums, begin, end):\n",
    "        pivot = end\n",
    "        counter = begin\n",
    "        for i in range(begin, end):\n",
    "            if nums[i] < nums[pivot]:\n",
    "                nums[counter], nums[i] = nums[i], nums[counter]\n",
    "                counter += 1\n",
    "        nums[counter], nums[pivot] = nums[pivot], nums[counter]\n",
    "        return counter\n",
    "\n",
    "a = [3,5,6,7,8,9,4,5,6,7]\n",
    "q = QuickSort()\n",
    "q.quickSort(a, 0, len(a)-1)\n",
    "a"
   ]
  },
  {
   "cell_type": "markdown",
   "metadata": {},
   "source": [
    "### MergeSort:"
   ]
  },
  {
   "cell_type": "code",
   "execution_count": 12,
   "metadata": {},
   "outputs": [
    {
     "name": "stdout",
     "output_type": "stream",
     "text": [
      "[-498, -5, 0, 3, 4, 5, 7, 7, 9, 446, 633]\n"
     ]
    }
   ],
   "source": [
    "class MergeSort:\n",
    "    def mergeSort(self, nums, left, right):\n",
    "        if left >= right:\n",
    "            return None\n",
    "        mid = (left + right) >> 1\n",
    "        self.mergeSort(nums, left, mid)\n",
    "        self.mergeSort(nums, mid+1, right)\n",
    "        self._merge(nums, left, mid, right)\n",
    "    \n",
    "    def _merge(self, nums, left, mid, right):\n",
    "        i = left\n",
    "        cache = []\n",
    "        for j in range(mid+1, right+1):\n",
    "            while i <= mid and nums[i] < nums[j]:\n",
    "                cache.append(nums[i])\n",
    "                i += 1\n",
    "            cache.append(nums[j])\n",
    "        while i <= mid:\n",
    "            cache.append(nums[i])\n",
    "            i += 1\n",
    "        nums[left:right+1] = cache\n",
    "\n",
    "a = [3,5,446,7,0,-498,9,4,-5,633,7]\n",
    "q = MergeSort()\n",
    "q.mergeSort(a, 0, len(a)-1)\n",
    "print(a)"
   ]
  },
  {
   "cell_type": "markdown",
   "metadata": {},
   "source": [
    "### HeapSort:"
   ]
  },
  {
   "cell_type": "code",
   "execution_count": 24,
   "metadata": {},
   "outputs": [
    {
     "name": "stdout",
     "output_type": "stream",
     "text": [
      "[-897, -9, 3, 4, 5, 5, 6, 7, 38, 633]\n"
     ]
    }
   ],
   "source": [
    "import heapq\n",
    "class HeapSort:\n",
    "    def heapSort(self, nums):\n",
    "        heap = []\n",
    "        n = len(nums)\n",
    "        for num in nums:\n",
    "            heapq.heappush(heap, num)\n",
    "        for i in range(n):\n",
    "            nums[i] = heapq.heappop(heap)\n",
    "            \n",
    "a = [3,5,6,-897,38,-9,4,5,633,7]\n",
    "q = HeapSort()\n",
    "q.heapSort(a)\n",
    "print(a)"
   ]
  },
  {
   "cell_type": "markdown",
   "metadata": {},
   "source": [
    "## 基本排序"
   ]
  },
  {
   "cell_type": "markdown",
   "metadata": {},
   "source": [
    "### SelectionSort:"
   ]
  },
  {
   "cell_type": "code",
   "execution_count": 25,
   "metadata": {},
   "outputs": [
    {
     "name": "stdout",
     "output_type": "stream",
     "text": [
      "[-498, -5, 0, 3, 4, 5, 6, 7, 7, 9, 446]\n"
     ]
    }
   ],
   "source": [
    "class SelectionSort:\n",
    "    def selectionSort(self, nums):\n",
    "        min_index = 0\n",
    "        n = len(nums)\n",
    "        for i in range(n):\n",
    "            min_index = i\n",
    "            for j in range(i+1, n):\n",
    "                if nums[i] > nums[j]:\n",
    "                    nums[i], nums[j] = nums[j], nums[i]\n",
    "        \n",
    "nums = [3,5,446,7,0,-498,9,4,-5,6,7]\n",
    "s = SelectionSort()\n",
    "s.selectionSort(nums)\n",
    "print(nums)"
   ]
  },
  {
   "cell_type": "markdown",
   "metadata": {},
   "source": [
    "### BubbleSort:"
   ]
  },
  {
   "cell_type": "code",
   "execution_count": 26,
   "metadata": {},
   "outputs": [
    {
     "name": "stdout",
     "output_type": "stream",
     "text": [
      "[-498, -5, 0, 3, 4, 5, 6, 7, 7, 9, 446]\n"
     ]
    }
   ],
   "source": [
    "class BubbleSort:\n",
    "    def bubbleSort(self, nums):\n",
    "        n = len(nums)\n",
    "        for i in range(n):\n",
    "            for j in range(n-i-1):\n",
    "                if nums[j] > nums[j+1]:\n",
    "                    nums[j], nums[j+1] = nums[j+1], nums[j]\n",
    "\n",
    "nums = [3,5,446,7,0,-498,9,4,-5,6,7]\n",
    "s = BubbleSort()\n",
    "s.bubbleSort(nums)\n",
    "print(nums)"
   ]
  },
  {
   "cell_type": "markdown",
   "metadata": {},
   "source": [
    "### InsertionSort:"
   ]
  },
  {
   "cell_type": "code",
   "execution_count": 30,
   "metadata": {},
   "outputs": [
    {
     "name": "stdout",
     "output_type": "stream",
     "text": [
      "[-498, -5, 0, 3, 4, 5, 6, 7, 7, 9, 446]\n"
     ]
    }
   ],
   "source": [
    "class InsertionSort:\n",
    "    def insertionSort(self, nums):\n",
    "        n = len(nums)\n",
    "        pre_index = 0\n",
    "        current = 0\n",
    "        for i in range(1, n):\n",
    "            current = nums[i]\n",
    "            pre_index = i - 1\n",
    "            while pre_index >= 0 and nums[pre_index] > current:\n",
    "                nums[pre_index+1] = nums[pre_index]\n",
    "                pre_index -= 1\n",
    "            nums[pre_index+1] = current\n",
    "\n",
    "a = [3,5,446,7,0,-498,9,4,-5,6,7]\n",
    "q = InsertionSort()\n",
    "q.insertionSort(a)\n",
    "print(a)"
   ]
  },
  {
   "cell_type": "code",
   "execution_count": null,
   "metadata": {},
   "outputs": [],
   "source": []
  }
 ],
 "metadata": {
  "kernelspec": {
   "display_name": "Python 3",
   "language": "python",
   "name": "python3"
  },
  "language_info": {
   "codemirror_mode": {
    "name": "ipython",
    "version": 3
   },
   "file_extension": ".py",
   "mimetype": "text/x-python",
   "name": "python",
   "nbconvert_exporter": "python",
   "pygments_lexer": "ipython3",
   "version": "3.7.6"
  }
 },
 "nbformat": 4,
 "nbformat_minor": 4
}
