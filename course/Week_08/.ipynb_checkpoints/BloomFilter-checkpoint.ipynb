{
 "cells": [
  {
   "cell_type": "code",
   "execution_count": 2,
   "metadata": {},
   "outputs": [],
   "source": [
    "from bitarray import bitarray\n",
    "import mmh3"
   ]
  },
  {
   "cell_type": "code",
   "execution_count": 6,
   "metadata": {},
   "outputs": [],
   "source": [
    "class BloomFilter:\n",
    "    def __init__(self, size, hash_num):\n",
    "        self.size = size\n",
    "        self.hash_num = hash_num\n",
    "        self.bit_array = bitarray(size)\n",
    "        self.bit_array.setall(0)\n",
    "    \n",
    "    def add(self, s):\n",
    "        for seed in range(self.hash_num):\n",
    "            result = mmh3.hash(s, seed) % self.size\n",
    "            self.bit_array[result] = 1\n",
    "    \n",
    "    def lookup(self, s):\n",
    "        for seed in range(self.hash_num):\n",
    "            result = mmh3.hash(s, seed) % self.size\n",
    "            if self.bit_array[result] == 0:\n",
    "                return 'Nope'\n",
    "        return 'Probably'"
   ]
  },
  {
   "cell_type": "code",
   "execution_count": 7,
   "metadata": {},
   "outputs": [
    {
     "data": {
      "text/plain": [
       "'Probably'"
      ]
     },
     "execution_count": 7,
     "metadata": {},
     "output_type": "execute_result"
    }
   ],
   "source": [
    "bf = BloomFilter(500000, 7)\n",
    "bf.add(\"dantezhao\")\n",
    "bf.lookup(\"dantezhao\")"
   ]
  },
  {
   "cell_type": "code",
   "execution_count": 8,
   "metadata": {},
   "outputs": [
    {
     "data": {
      "text/plain": [
       "'Nope'"
      ]
     },
     "execution_count": 8,
     "metadata": {},
     "output_type": "execute_result"
    }
   ],
   "source": [
    "bf.lookup(\"dfsfd\")"
   ]
  },
  {
   "cell_type": "code",
   "execution_count": null,
   "metadata": {},
   "outputs": [],
   "source": []
  },
  {
   "cell_type": "code",
   "execution_count": 3,
   "metadata": {},
   "outputs": [
    {
     "data": {
      "text/plain": [
       "'Probably'"
      ]
     },
     "execution_count": 3,
     "metadata": {},
     "output_type": "execute_result"
    }
   ],
   "source": [
    "import mmh3\n",
    "from bitarray import bitarray\n",
    "\n",
    "class BloomFilter:\n",
    "    def __init__(self, size, hash_num):\n",
    "        self.size = size\n",
    "        self.hash_num = hash_num\n",
    "        self.bit_array = bitarray(size)\n",
    "        self.bit_array.setall(0)\n",
    "    \n",
    "    def add(self, s):\n",
    "        for seed in range(self.hash_num):\n",
    "            result = mmh3.hash(s, seed) % self.size\n",
    "            self.bit_array[result] = 1\n",
    "    \n",
    "    def lookup(self, s):\n",
    "        for seed in range(self.hash_num):\n",
    "            result = mmh3.hash(s, seed) % self.size\n",
    "            if self.bit_array[result] == 0:\n",
    "                return 'Nope'\n",
    "        return 'Probably'\n",
    "    \n",
    "bf = BloomFilter(500000, 7)\n",
    "bf.add(\"zhongguo\")\n",
    "bf.add(\"yuan\")\n",
    "bf.lookup(\"yuan\")"
   ]
  },
  {
   "cell_type": "code",
   "execution_count": 4,
   "metadata": {},
   "outputs": [
    {
     "data": {
      "text/plain": [
       "'Nope'"
      ]
     },
     "execution_count": 4,
     "metadata": {},
     "output_type": "execute_result"
    }
   ],
   "source": [
    "bf.lookup(\"djhf\")"
   ]
  },
  {
   "cell_type": "code",
   "execution_count": null,
   "metadata": {},
   "outputs": [],
   "source": []
  }
 ],
 "metadata": {
  "kernelspec": {
   "display_name": "Python 3",
   "language": "python",
   "name": "python3"
  },
  "language_info": {
   "codemirror_mode": {
    "name": "ipython",
    "version": 3
   },
   "file_extension": ".py",
   "mimetype": "text/x-python",
   "name": "python",
   "nbconvert_exporter": "python",
   "pygments_lexer": "ipython3",
   "version": "3.7.6"
  }
 },
 "nbformat": 4,
 "nbformat_minor": 4
}
