{
 "cells": [
  {
   "cell_type": "markdown",
   "metadata": {},
   "source": [
    "### 给定一个链表，两两交换其中相邻的节点，并返回交换后的链表。\n",
    "\n",
    "你不能只是单纯的改变节点内部的值，而是需要实际的进行节点交换。\n",
    "\n",
    " \n",
    "\n",
    "示例:\n",
    "\n",
    "给定 1->2->3->4, 你应该返回 2->1->4->3.\n"
   ]
  },
  {
   "cell_type": "markdown",
   "metadata": {},
   "source": [
    "#### V1.1_9.10_递归"
   ]
  },
  {
   "cell_type": "code",
   "execution_count": 1,
   "metadata": {},
   "outputs": [],
   "source": [
    "# Definition for singly-linked list.\n",
    "class ListNode:\n",
    "    def __init__(self, x):\n",
    "        self.val = x\n",
    "        self.next = None\n",
    "\n",
    "class Solution:\n",
    "    def swapPairs(self, head: ListNode) -> ListNode:\n",
    "        if not head or not head.next:\n",
    "            return head\n",
    "        first_node = head\n",
    "        second_node = head.next\n",
    "        first_node.next = self.swapPairs(second_node.next)\n",
    "        second_node.next = first_node\n",
    "        return second_node"
   ]
  },
  {
   "cell_type": "markdown",
   "metadata": {},
   "source": [
    "#### V1.2_9.10_迭代"
   ]
  },
  {
   "cell_type": "code",
   "execution_count": 2,
   "metadata": {},
   "outputs": [],
   "source": [
    "# Definition for singly-linked list.\n",
    "class ListNode:\n",
    "    def __init__(self, x):\n",
    "        self.val = x\n",
    "        self.next = None\n",
    "\n",
    "class Solution:\n",
    "    def swapPairs(self, head: ListNode) -> ListNode:\n",
    "        dumy = ListNode(-1)\n",
    "        dumy = head\n",
    "        \n",
    "        pre_node = dumy\n",
    "        \n",
    "        while head and head.next:\n",
    "            \n",
    "            #Nodes to be swapped\n",
    "            first_node = head\n",
    "            second_node = head.next\n",
    "            \n",
    "            #Swapping\n",
    "            prev_node.next = second_node\n",
    "            first_node.next = second_node.next\n",
    "            second_node.next =  first_node\n",
    "            \n",
    "            #Reinitializing\n",
    "            head = first_node.next\n",
    "            prev_node = first_node\n",
    "        \n",
    "        return dumy.next"
   ]
  },
  {
   "cell_type": "markdown",
   "metadata": {},
   "source": [
    "#### V2.1_递归"
   ]
  },
  {
   "cell_type": "code",
   "execution_count": 3,
   "metadata": {},
   "outputs": [],
   "source": [
    "# Definition for singly-linked list.\n",
    "class ListNode:\n",
    "    def __init__(self, x):\n",
    "        self.val = x\n",
    "        self.next = None\n",
    "\n",
    "class Solution:\n",
    "    def swapPairs(self, head: ListNode) -> ListNode:\n",
    "        if not head and head.next:\n",
    "            return head\n",
    "        first_node = head\n",
    "        second_node = head.next\n",
    "        first_node.next = self.swapPairs(second_node.next)\n",
    "        second_node.next = fist_node\n",
    "        return second_node"
   ]
  },
  {
   "cell_type": "markdown",
   "metadata": {},
   "source": [
    "#### V2.2_迭代"
   ]
  },
  {
   "cell_type": "code",
   "execution_count": null,
   "metadata": {},
   "outputs": [],
   "source": [
    "# Definition for singly-linked list.\n",
    "class ListNode:\n",
    "    def __init__(self, x):\n",
    "        self.val = x\n",
    "        self.next = None\n",
    "\n",
    "class Solution:\n",
    "    def swapPairs(self, head: ListNode) -> ListNode:\n",
    "        dummy = ListNode(-1)\n",
    "        dummy.next = head\n",
    "        \n",
    "        prev_node = dummy\n",
    "        \n",
    "        while head and head.next:\n",
    "            first_node = head\n",
    "            second_node = head.next\n",
    "            \n",
    "            prev_node.next = second_node\n",
    "            first_node.next = second_node.next\n",
    "            second_node.next = first_node\n",
    "            \n",
    "            head = first_node.next\n",
    "            prev_node = first_node\n",
    "        \n",
    "        return dummy.next\n",
    "            "
   ]
  },
  {
   "cell_type": "markdown",
   "metadata": {},
   "source": [
    "### V3.0_9.16"
   ]
  },
  {
   "cell_type": "code",
   "execution_count": 2,
   "metadata": {},
   "outputs": [],
   "source": [
    "# Definition for singly-linked list.\n",
    "class ListNode:\n",
    "    def __init__(self, x):\n",
    "        self.val = x\n",
    "        self.next = None\n",
    "\n",
    "class Solution:\n",
    "    def swapPairs(self, head: ListNode) -> ListNode:\n",
    "        if not head or not head.next:\n",
    "            return head\n",
    "        first_node = head\n",
    "        scond_node = head.next\n",
    "        first_node = self.swapPairs(scond_node.next)\n",
    "        scond_node.next = first_node\n",
    "        return scond_node"
   ]
  },
  {
   "cell_type": "code",
   "execution_count": null,
   "metadata": {},
   "outputs": [],
   "source": [
    "float('inf'"
   ]
  }
 ],
 "metadata": {
  "kernelspec": {
   "display_name": "Python 3",
   "language": "python",
   "name": "python3"
  },
  "language_info": {
   "codemirror_mode": {
    "name": "ipython",
    "version": 3
   },
   "file_extension": ".py",
   "mimetype": "text/x-python",
   "name": "python",
   "nbconvert_exporter": "python",
   "pygments_lexer": "ipython3",
   "version": "3.7.6"
  }
 },
 "nbformat": 4,
 "nbformat_minor": 4
}
