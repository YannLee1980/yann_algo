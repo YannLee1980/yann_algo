{
 "cells": [
  {
   "cell_type": "markdown",
   "metadata": {},
   "source": [
    "### 641. 设计循环双端队列\n",
    "https://leetcode-cn.com/problems/design-circular-deque/discuss/783786/python-solution-(trick)/\n",
    "\n",
    "设计实现双端队列。\n",
    "你的实现需要支持以下操作：\n",
    "\n",
    "MyCircularDeque(k)：构造函数,双端队列的大小为k。\n",
    "insertFront()：将一个元素添加到双端队列头部。 如果操作成功返回 true。\n",
    "insertLast()：将一个元素添加到双端队列尾部。如果操作成功返回 true。\n",
    "deleteFront()：从双端队列头部删除一个元素。 如果操作成功返回 true。\n",
    "deleteLast()：从双端队列尾部删除一个元素。如果操作成功返回 true。\n",
    "getFront()：从双端队列头部获得一个元素。如果双端队列为空，返回 -1。\n",
    "getRear()：获得双端队列的最后一个元素。 如果双端队列为空，返回 -1。\n",
    "isEmpty()：检查双端队列是否为空。\n",
    "isFull()：检查双端队列是否满了。\n",
    "示例：\n",
    "\n",
    "MyCircularDeque circularDeque = new MycircularDeque(3); // 设置容量大小为3\n",
    "circularDeque.insertLast(1);\t\t\t        // 返回 true\n",
    "circularDeque.insertLast(2);\t\t\t        // 返回 true\n",
    "circularDeque.insertFront(3);\t\t\t        // 返回 true\n",
    "circularDeque.insertFront(4);\t\t\t        // 已经满了，返回 false\n",
    "circularDeque.getRear();  \t\t\t\t// 返回 2\n",
    "circularDeque.isFull();\t\t\t\t        // 返回 true\n",
    "circularDeque.deleteLast();\t\t\t        // 返回 true\n",
    "circularDeque.insertFront(4);\t\t\t        // 返回 true\n",
    "circularDeque.getFront();\t\t\t\t// 返回 4\n",
    " "
   ]
  },
  {
   "cell_type": "markdown",
   "metadata": {},
   "source": [
    "#### V1.1_9.14"
   ]
  },
  {
   "cell_type": "code",
   "execution_count": 22,
   "metadata": {},
   "outputs": [],
   "source": [
    "class MyCircularDeque:\n",
    "\n",
    "    def __init__(self, k: int):\n",
    "        \"\"\"\n",
    "        Initialize your data structure here. Set the size of the deque to be k.\n",
    "        \"\"\"\n",
    "        self.front = 0\n",
    "        self.rear = 0\n",
    "        self.capacity = k + 1\n",
    "        self.arr = [0 for _ in range(self.capacity)]\n",
    "        \n",
    "\n",
    "    def insertFront(self, value: int) -> bool:\n",
    "        \"\"\"\n",
    "        Adds an item at the front of Deque. Return true if the operation is successful.\n",
    "        \"\"\"\n",
    "        if self.isFull():\n",
    "            return False\n",
    "        self.front = (self.front - 1 + self.capacity) % self.capacity\n",
    "        self.arr[self.front] = value\n",
    "        return True\n",
    "\n",
    "    def insertLast(self, value: int) -> bool:\n",
    "        \"\"\"\n",
    "        Adds an item at the rear of Deque. Return true if the operation is successful.\n",
    "        \"\"\"\n",
    "        if self.isFull():\n",
    "            return False\n",
    "        self.arr[self.rear] = value\n",
    "        self.rear = (self.rear + 1) % self.capacity\n",
    "        return True\n",
    "\n",
    "    def deleteFront(self) -> bool:\n",
    "        \"\"\"\n",
    "        Deletes an item from the front of Deque. Return true if the operation is successful.\n",
    "        \"\"\"\n",
    "        if self.isEmpty():\n",
    "            return False\n",
    "        self.front = (self.front + 1) % self.capacity\n",
    "        return True\n",
    "\n",
    "    def deleteLast(self) -> bool:\n",
    "        \"\"\"\n",
    "        Deletes an item from the rear of Deque. Return true if the operation is successful.\n",
    "        \"\"\"\n",
    "        if self.isEmpty():\n",
    "            return False\n",
    "        self.rear = (self.rear - 1 + self.capacity) % self.capacity\n",
    "        return True\n",
    "\n",
    "    def getFront(self) -> int:\n",
    "        \"\"\"\n",
    "        Get the front item from the deque.\n",
    "        \"\"\"\n",
    "        if self.isEmpty():\n",
    "            return -1\n",
    "        return self.arr[self.front]\n",
    "\n",
    "    def getRear(self) -> int:\n",
    "        \"\"\"\n",
    "        Get the last item from the deque.\n",
    "        \"\"\"\n",
    "        if self.isEmpty():\n",
    "            return -1\n",
    "        return self.arr[(self.rear - 1 + self.capacity) % self.capacity]\n",
    "\n",
    "    def isEmpty(self) -> bool:\n",
    "        \"\"\"\n",
    "        Checks whether the circular deque is empty or not.\n",
    "        \"\"\"\n",
    "        if self.front == self.rear:\n",
    "            return True\n",
    "        else:\n",
    "            return False\n",
    "\n",
    "    def isFull(self) -> bool:\n",
    "        \"\"\"\n",
    "        Checks whether the circular deque is full or not.\n",
    "        \"\"\"\n",
    "        if self.rear + 1 == self.front:\n",
    "            return True\n",
    "        else:\n",
    "            return False\n",
    "        "
   ]
  },
  {
   "cell_type": "code",
   "execution_count": 23,
   "metadata": {},
   "outputs": [],
   "source": [
    "# Your MyCircularDeque object will be instantiated and called as such:\n",
    "obj = MyCircularDeque(10)\n",
    "param_1 = obj.insertFront(3)\n",
    "param_2 = obj.insertLast(4)\n",
    "param_3 = obj.deleteFront()\n",
    "param_4 = obj.deleteLast()\n",
    "param_5 = obj.getFront()\n",
    "param_6 = obj.getRear()\n",
    "param_7 = obj.isEmpty()\n",
    "param_8 = obj.isFull()"
   ]
  },
  {
   "cell_type": "code",
   "execution_count": 16,
   "metadata": {},
   "outputs": [
    {
     "data": {
      "text/plain": [
       "99"
      ]
     },
     "execution_count": 16,
     "metadata": {},
     "output_type": "execute_result"
    }
   ],
   "source": [
    "obj = MyCircularDeque(10)\n",
    "obj.insertFront(99)\n",
    "obj.getFront()"
   ]
  },
  {
   "cell_type": "code",
   "execution_count": 17,
   "metadata": {},
   "outputs": [
    {
     "data": {
      "text/plain": [
       "99"
      ]
     },
     "execution_count": 17,
     "metadata": {},
     "output_type": "execute_result"
    }
   ],
   "source": [
    "obj.getRear()"
   ]
  },
  {
   "cell_type": "code",
   "execution_count": 18,
   "metadata": {},
   "outputs": [
    {
     "data": {
      "text/plain": [
       "False"
      ]
     },
     "execution_count": 18,
     "metadata": {},
     "output_type": "execute_result"
    }
   ],
   "source": [
    "obj.isEmpty()"
   ]
  },
  {
   "cell_type": "code",
   "execution_count": 19,
   "metadata": {},
   "outputs": [
    {
     "data": {
      "text/plain": [
       "False"
      ]
     },
     "execution_count": 19,
     "metadata": {},
     "output_type": "execute_result"
    }
   ],
   "source": [
    "obj.isFull()"
   ]
  },
  {
   "cell_type": "code",
   "execution_count": 20,
   "metadata": {},
   "outputs": [],
   "source": [
    "obj.insertFront(991)"
   ]
  },
  {
   "cell_type": "code",
   "execution_count": 21,
   "metadata": {},
   "outputs": [],
   "source": [
    "obj.insertLast(4)"
   ]
  },
  {
   "cell_type": "code",
   "execution_count": 27,
   "metadata": {},
   "outputs": [
    {
     "name": "stdout",
     "output_type": "stream",
     "text": [
      "p\n"
     ]
    }
   ],
   "source": [
    "l = list()\n",
    "if not l:\n",
    "    print('p')"
   ]
  },
  {
   "cell_type": "code",
   "execution_count": null,
   "metadata": {},
   "outputs": [],
   "source": []
  }
 ],
 "metadata": {
  "kernelspec": {
   "display_name": "Python 3",
   "language": "python",
   "name": "python3"
  },
  "language_info": {
   "codemirror_mode": {
    "name": "ipython",
    "version": 3
   },
   "file_extension": ".py",
   "mimetype": "text/x-python",
   "name": "python",
   "nbconvert_exporter": "python",
   "pygments_lexer": "ipython3",
   "version": "3.7.6"
  }
 },
 "nbformat": 4,
 "nbformat_minor": 4
}
