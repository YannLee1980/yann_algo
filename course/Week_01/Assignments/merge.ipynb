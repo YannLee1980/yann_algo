{
 "cells": [
  {
   "cell_type": "markdown",
   "metadata": {},
   "source": [
    "### 88. 合并两个有序数组 ————双指针，倒序操作\n",
    "给你两个有序整数数组 nums1 和 nums2，请你将 nums2 合并到 nums1 中，使 nums1 成为一个有序数组。\n",
    "\n",
    " \n",
    "\n",
    "说明:\n",
    "\n",
    "初始化 nums1 和 nums2 的元素数量分别为 m 和 n 。\n",
    "你可以假设 nums1 有足够的空间（空间大小大于或等于 m + n）来保存 nums2 中的元素。\n",
    " \n",
    "\n",
    "示例:\n",
    "\n",
    "输入:\n",
    "nums1 = [1,2,3,0,0,0], m = 3\n",
    "nums2 = [2,5,6],       n = 3\n",
    "\n",
    "输出: [1,2,2,3,5,6]"
   ]
  },
  {
   "cell_type": "markdown",
   "metadata": {},
   "source": [
    "#### V1.0_9.13"
   ]
  },
  {
   "cell_type": "code",
   "execution_count": 9,
   "metadata": {},
   "outputs": [],
   "source": [
    "class Solution:\n",
    "    def merge(self, nums1: list, m: int, nums2: list, n: int) -> None:\n",
    "        \"\"\"\n",
    "        Do not return anything, modify nums1 in-place instead.\n",
    "        \"\"\"\n",
    "        nums1[:] = sorted(nums1[:m] + nums2[:n])"
   ]
  },
  {
   "cell_type": "code",
   "execution_count": 10,
   "metadata": {},
   "outputs": [
    {
     "data": {
      "text/plain": [
       "[1, 2, 2, 3, 5, 6]"
      ]
     },
     "execution_count": 10,
     "metadata": {},
     "output_type": "execute_result"
    }
   ],
   "source": [
    "nums1 = [1,2,3,0,0,0]\n",
    "nums2 = [2,5,6]\n",
    "m = 3\n",
    "n = 3\n",
    "s = Solution()\n",
    "s.merge(nums1, 3, nums2, 3)\n",
    "nums1"
   ]
  },
  {
   "cell_type": "markdown",
   "metadata": {},
   "source": [
    "#### V1.1_9.13"
   ]
  },
  {
   "cell_type": "code",
   "execution_count": 30,
   "metadata": {},
   "outputs": [],
   "source": [
    "class Solution:\n",
    "    def merge(self, nums1: list, m: int, nums2: list, n: int) -> None:\n",
    "        # 两数组的下标\n",
    "        p1 = m - 1\n",
    "        p2 = n -1\n",
    "        \n",
    "        # 新nums1的下标：\n",
    "        p = m + n -1\n",
    "        \n",
    "        # 当还有元素没比较：\n",
    "        while p1 >= 0 and p2 >= 0:\n",
    "            if nums1[p1] > nums2[p2]:\n",
    "                nums1[p] = nums1[p1]\n",
    "                p1 -= 1\n",
    "            else:\n",
    "                nums1[p] = nums2[p2]\n",
    "                p2 -= 1\n",
    "            p -= 1\n",
    "        \n",
    "        # 有可能nums2还有元素没进入nums1\n",
    "        nums1[:p2+1] = nums2[:p2+1]"
   ]
  },
  {
   "cell_type": "code",
   "execution_count": 31,
   "metadata": {},
   "outputs": [
    {
     "data": {
      "text/plain": [
       "[1, 2, 2, 3, 5, 6]"
      ]
     },
     "execution_count": 31,
     "metadata": {},
     "output_type": "execute_result"
    }
   ],
   "source": [
    "nums1 = [1,2,3,0,0,0]\n",
    "nums2 = [2,5,6]\n",
    "m = 3\n",
    "n = 3\n",
    "s = Solution()\n",
    "s.merge(nums1, 3, nums2, 3)\n",
    "nums1"
   ]
  },
  {
   "cell_type": "markdown",
   "metadata": {},
   "source": [
    "#### V2.0_9.16_利用输入数组已排序的特点，从最后一个元素开始存入"
   ]
  },
  {
   "cell_type": "code",
   "execution_count": 34,
   "metadata": {},
   "outputs": [],
   "source": [
    "class Solution:\n",
    "    def merge(self, nums1: list, m: int, nums2: list, n: int) -> None:\n",
    "        p1 = m -1\n",
    "        p2 = n -1\n",
    "        p = m + n -1\n",
    "        \n",
    "        while p1 >= 0 and p2 >= 0:\n",
    "            if nums1[p1] < nums2[p2]:\n",
    "                nums1[p] = nums2[p2]\n",
    "                p2 -= 1\n",
    "            else:\n",
    "                nums1[p] = nums1[p1]\n",
    "                p1 -= 1\n",
    "            p -= 1\n",
    "\n",
    "        nums1[: p2+1] = nums2[: p2+1]\n",
    "        return nums1"
   ]
  },
  {
   "cell_type": "code",
   "execution_count": 37,
   "metadata": {},
   "outputs": [
    {
     "data": {
      "text/plain": [
       "[-2, 1, 2, 3, 6]"
      ]
     },
     "execution_count": 37,
     "metadata": {},
     "output_type": "execute_result"
    }
   ],
   "source": [
    "nums1 = [1,2,3,0,0]\n",
    "nums2 = [-2,6]\n",
    "m = 3\n",
    "n = 2\n",
    "s = Solution()\n",
    "s.merge(nums1, 3, nums2, 2)\n",
    "nums1"
   ]
  },
  {
   "cell_type": "code",
   "execution_count": null,
   "metadata": {},
   "outputs": [],
   "source": []
  }
 ],
 "metadata": {
  "kernelspec": {
   "display_name": "Python 3",
   "language": "python",
   "name": "python3"
  },
  "language_info": {
   "codemirror_mode": {
    "name": "ipython",
    "version": 3
   },
   "file_extension": ".py",
   "mimetype": "text/x-python",
   "name": "python",
   "nbconvert_exporter": "python",
   "pygments_lexer": "ipython3",
   "version": "3.7.6"
  }
 },
 "nbformat": 4,
 "nbformat_minor": 4
}
