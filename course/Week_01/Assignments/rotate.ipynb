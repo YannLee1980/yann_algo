{
 "cells": [
  {
   "cell_type": "markdown",
   "metadata": {},
   "source": [
    "## 189. 旋转数组\n",
    "给定一个数组，将数组中的元素向右移动 k 个位置，其中 k 是非负数。\n",
    "\n",
    "示例 1:\n",
    "\n",
    "输入: [1,2,3,4,5,6,7] 和 k = 3\n",
    "输出: [5,6,7,1,2,3,4]\n",
    "解释:\n",
    "向右旋转 1 步: [7,1,2,3,4,5,6]\n",
    "向右旋转 2 步: [6,7,1,2,3,4,5]\n",
    "向右旋转 3 步: [5,6,7,1,2,3,4]\n",
    "示例 2:\n",
    "\n",
    "输入: [-1,-100,3,99] 和 k = 2\n",
    "输出: [3,99,-1,-100]\n",
    "解释: \n",
    "向右旋转 1 步: [99,-1,-100,3]\n",
    "向右旋转 2 步: [3,99,-1,-100]\n",
    "说明:\n",
    "\n",
    "尽可能想出更多的解决方案，至少有三种不同的方法可以解决这个问题。\n",
    "要求使用空间复杂度为 O(1) 的 原地 算法。"
   ]
  },
  {
   "cell_type": "markdown",
   "metadata": {},
   "source": [
    "### V1.1_9.13_逐次转（暴力求解）："
   ]
  },
  {
   "cell_type": "code",
   "execution_count": 9,
   "metadata": {},
   "outputs": [],
   "source": [
    "class Solution:\n",
    "    def rotate(self, nums: list, k: int) -> None:\n",
    "        \"\"\"\n",
    "        Do not return anything, modify nums in-place instead.\n",
    "        \"\"\"\n",
    "        # 重复k次：\n",
    "        for _ in range(k):\n",
    "            # 向右循转一个数：\n",
    "            for i in range(len(nums)-1, 0, -1):\n",
    "                nums[i] , nums[i-1] = nums[i-1] , nums[i]"
   ]
  },
  {
   "cell_type": "code",
   "execution_count": 10,
   "metadata": {},
   "outputs": [
    {
     "data": {
      "text/plain": [
       "[5, 6, 7, 1, 2, 3, 4]"
      ]
     },
     "execution_count": 10,
     "metadata": {},
     "output_type": "execute_result"
    }
   ],
   "source": [
    "l = [1,2,3,4,5,6,7]\n",
    "s = Solution()\n",
    "s.rotate(l, 3)\n",
    "l"
   ]
  },
  {
   "cell_type": "markdown",
   "metadata": {},
   "source": [
    "### V1.2_9.13_三次反转："
   ]
  },
  {
   "cell_type": "code",
   "execution_count": 20,
   "metadata": {},
   "outputs": [],
   "source": [
    "class Solution:\n",
    "    def rotate(self, nums: list, k: int) -> None:\n",
    "        \"\"\"\n",
    "        Do not return anything, modify nums in-place instead.\n",
    "        \"\"\"\n",
    "        n = len(nums)\n",
    "        k = k % n\n",
    "        nums[:] = nums[n - k :] + nums[: n - k]"
   ]
  },
  {
   "cell_type": "code",
   "execution_count": 21,
   "metadata": {},
   "outputs": [
    {
     "data": {
      "text/plain": [
       "[6, 7, 1, 2, 3, 4, 5]"
      ]
     },
     "execution_count": 21,
     "metadata": {},
     "output_type": "execute_result"
    }
   ],
   "source": [
    "l = [1,2,3,4,5,6,7]\n",
    "s = Solution()\n",
    "s.rotate(l, 2)\n",
    "l"
   ]
  },
  {
   "cell_type": "markdown",
   "metadata": {},
   "source": [
    "#### V2.0_9.16_直接反转"
   ]
  },
  {
   "cell_type": "code",
   "execution_count": 25,
   "metadata": {},
   "outputs": [],
   "source": [
    "class Solution:\n",
    "    def rotate(self, nums: list, k: int) -> None:\n",
    "        n = len(nums)\n",
    "        k = k % n\n",
    "        nums[:] = nums[n - k:] + nums[:n - k]"
   ]
  },
  {
   "cell_type": "code",
   "execution_count": 30,
   "metadata": {},
   "outputs": [
    {
     "data": {
      "text/plain": [
       "[7, 1, 2, 3, 4, 5, 6]"
      ]
     },
     "execution_count": 30,
     "metadata": {},
     "output_type": "execute_result"
    }
   ],
   "source": [
    "l = [1,2,3,4,5,6,7]\n",
    "s = Solution()\n",
    "s.rotate(l, 8)\n",
    "l"
   ]
  },
  {
   "cell_type": "code",
   "execution_count": null,
   "metadata": {},
   "outputs": [],
   "source": []
  }
 ],
 "metadata": {
  "kernelspec": {
   "display_name": "Python 3",
   "language": "python",
   "name": "python3"
  },
  "language_info": {
   "codemirror_mode": {
    "name": "ipython",
    "version": 3
   },
   "file_extension": ".py",
   "mimetype": "text/x-python",
   "name": "python",
   "nbconvert_exporter": "python",
   "pygments_lexer": "ipython3",
   "version": "3.7.6"
  }
 },
 "nbformat": 4,
 "nbformat_minor": 4
}
