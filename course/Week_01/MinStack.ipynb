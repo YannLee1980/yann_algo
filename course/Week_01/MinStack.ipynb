{
 "cells": [
  {
   "cell_type": "markdown",
   "metadata": {},
   "source": [
    "### 155. 最小栈\n",
    "\n",
    "https://leetcode-cn.com/problems/min-stack/\n",
    "    \n",
    "设计一个支持 push ，pop ，top 操作，并能在常数时间内检索到最小元素的栈。\n",
    "\n",
    "push(x) —— 将元素 x 推入栈中。\n",
    "pop() —— 删除栈顶的元素。\n",
    "top() —— 获取栈顶元素。\n",
    "getMin() —— 检索栈中的最小元素。\n",
    " \n",
    "\n",
    "示例:\n",
    "\n",
    "输入：\n",
    "[\"MinStack\",\"push\",\"push\",\"push\",\"getMin\",\"pop\",\"top\",\"getMin\"]\n",
    "[[],[-2],[0],[-3],[],[],[],[]]\n",
    "\n",
    "输出：\n",
    "[null,null,null,null,-3,null,0,-2]\n",
    "\n",
    "解释：\n",
    "MinStack minStack = new MinStack();\n",
    "minStack.push(-2);\n",
    "minStack.push(0);\n",
    "minStack.push(-3);\n",
    "minStack.getMin();   --> 返回 -3.\n",
    "minStack.pop();\n",
    "minStack.top();      --> 返回 0.\n",
    "minStack.getMin();   --> 返回 -2.\n",
    " \n",
    "\n",
    "提示：\n",
    "\n",
    "pop、top 和 getMin 操作总是在 非空栈 上调用。"
   ]
  },
  {
   "cell_type": "code",
   "execution_count": 15,
   "metadata": {},
   "outputs": [],
   "source": [
    "import math\n",
    "\n",
    "class MinStack:\n",
    "\n",
    "    def __init__(self):\n",
    "        \"\"\"\n",
    "        initialize your data structure here.\n",
    "        \"\"\"\n",
    "        self.stack = []\n",
    "        self.min_stack = [math.inf]\n",
    "\n",
    "    def push(self, x: int) -> None:\n",
    "        self.stack.append(x)\n",
    "        self.min_stack.append(min(x , self.min_stack[-1]))\n",
    "\n",
    "    def pop(self) -> None:\n",
    "        self.stack.pop()\n",
    "        self.min_stack.pop()\n",
    "\n",
    "    def top(self) -> int:\n",
    "        if self.stack:\n",
    "            return self.stack[-1]\n",
    "        else:\n",
    "            return None\n",
    "\n",
    "    def getMin(self) -> int:\n",
    "        if self.min_stack[-1] != math.inf:\n",
    "            return self.min_stack[-1]\n",
    "        else: return None\n",
    "\n"
   ]
  },
  {
   "cell_type": "code",
   "execution_count": 18,
   "metadata": {},
   "outputs": [],
   "source": [
    "\n",
    "# Your MinStack object will be instantiated and called as such:\n",
    "obj = MinStack()\n",
    "obj.push(4)\n",
    "obj.push(5)\n",
    "obj.push(-1)\n",
    "obj.pop()\n",
    "param_3 = obj.top()\n",
    "param_4 = obj.getMin()"
   ]
  },
  {
   "cell_type": "code",
   "execution_count": 19,
   "metadata": {},
   "outputs": [
    {
     "data": {
      "text/plain": [
       "(5, 4)"
      ]
     },
     "execution_count": 19,
     "metadata": {},
     "output_type": "execute_result"
    }
   ],
   "source": [
    "(param_3 , param_4)"
   ]
  },
  {
   "cell_type": "code",
   "execution_count": null,
   "metadata": {},
   "outputs": [],
   "source": []
  }
 ],
 "metadata": {
  "kernelspec": {
   "display_name": "Python 3",
   "language": "python",
   "name": "python3"
  },
  "language_info": {
   "codemirror_mode": {
    "name": "ipython",
    "version": 3
   },
   "file_extension": ".py",
   "mimetype": "text/x-python",
   "name": "python",
   "nbconvert_exporter": "python",
   "pygments_lexer": "ipython3",
   "version": "3.7.6"
  }
 },
 "nbformat": 4,
 "nbformat_minor": 4
}
