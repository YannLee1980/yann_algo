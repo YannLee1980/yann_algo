{
 "cells": [
  {
   "cell_type": "markdown",
   "metadata": {},
   "source": [
    "### 239. 滑动窗口最大值\n",
    "给定一个数组 nums，有一个大小为 k 的滑动窗口从数组的最左侧移动到数组的最右侧。你只可以看到在滑动窗口内的 k 个数字。滑动窗口每次只向右移动一位。\n",
    "\n",
    "返回滑动窗口中的最大值。\n",
    "\n",
    " \n",
    "\n",
    "进阶：\n",
    "\n",
    "你能在线性时间复杂度内解决此题吗？\n",
    "\n",
    " \n",
    "\n",
    "示例:\n",
    "\n",
    "输入: nums = [1,3,-1,-3,5,3,6,7], 和 k = 3\n",
    "输出: [3,3,5,5,6,7] \n",
    "解释: \n",
    "\n",
    "\n",
    "  滑动窗口的位置                最大值\n",
    "---------------               -----\n",
    "[1  3  -1] -3  5  3  6  7       3\n",
    " 1 [3  -1  -3] 5  3  6  7       3\n",
    " 1  3 [-1  -3  5] 3  6  7       5\n",
    " 1  3  -1 [-3  5  3] 6  7       5\n",
    " 1  3  -1  -3 [5  3  6] 7       6\n",
    " 1  3  -1  -3  5 [3  6  7]      7\n",
    " \n",
    "\n",
    "提示：\n",
    "\n",
    "1 <= nums.length <= 10^5\n",
    "-10^4 <= nums[i] <= 10^4\n",
    "1 <= k <= nums.length\n"
   ]
  },
  {
   "cell_type": "markdown",
   "metadata": {},
   "source": [
    "#### V1.0_9.15_暴力法"
   ]
  },
  {
   "cell_type": "code",
   "execution_count": 3,
   "metadata": {},
   "outputs": [],
   "source": [
    "class Solution:\n",
    "    def maxSlidingWindow(self, nums: list, k: int) -> list:\n",
    "        ans = []\n",
    "        \n",
    "        for i in range(len(nums) - k + 1):\n",
    "            max_group = -math.inf\n",
    "            for j in range(i, i+k):\n",
    "                if nums[j] > max_group:\n",
    "                    max_group = nums[j]\n",
    "            ans.append(max_group)\n",
    "            \n",
    "        return ans"
   ]
  },
  {
   "cell_type": "code",
   "execution_count": null,
   "metadata": {},
   "outputs": [],
   "source": []
  }
 ],
 "metadata": {
  "kernelspec": {
   "display_name": "Python 3",
   "language": "python",
   "name": "python3"
  },
  "language_info": {
   "codemirror_mode": {
    "name": "ipython",
    "version": 3
   },
   "file_extension": ".py",
   "mimetype": "text/x-python",
   "name": "python",
   "nbconvert_exporter": "python",
   "pygments_lexer": "ipython3",
   "version": "3.7.6"
  }
 },
 "nbformat": 4,
 "nbformat_minor": 4
}
