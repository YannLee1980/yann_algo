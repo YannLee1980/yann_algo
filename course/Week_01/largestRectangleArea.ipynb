{
 "cells": [
  {
   "cell_type": "markdown",
   "metadata": {},
   "source": [
    "## 84. 柱状图中最大的矩形\n",
    "\n",
    "https://leetcode-cn.com/problems/largest-rectangle-in-histogram/\n",
    "\n",
    "给定 n 个非负整数，用来表示柱状图中各个柱子的高度。每个柱子彼此相邻，且宽度为 1 。\n",
    "\n",
    "求在该柱状图中，能够勾勒出来的矩形的最大面积。\n",
    "\n",
    "\n",
    "以上是柱状图的示例，其中每个柱子的宽度为 1，给定的高度为 [2,1,5,6,2,3]。\n",
    "图中阴影部分为所能勾勒出的最大矩形面积，其面积为 10 个单位。\n",
    "示例:\n",
    "\n",
    "输入: [2,1,5,6,2,3]\n",
    "输出: 10"
   ]
  },
  {
   "cell_type": "markdown",
   "metadata": {},
   "source": [
    "#### V1.1_9.15"
   ]
  },
  {
   "cell_type": "code",
   "execution_count": 4,
   "metadata": {},
   "outputs": [],
   "source": [
    "class Solution:\n",
    "    def largestRectangleArea(self, heights: list) -> int:\n",
    "        n = len(heights)\n",
    "        left , right = [0] * n , [0] * n\n",
    "        mono_stack = []\n",
    "        \n",
    "        for i in range(n):\n",
    "            while mono_stack and heights[mono_stack[-1]] >= heights[i]:\n",
    "                right[mono_stack[-1]] = i\n",
    "                mono_stack.pop()\n",
    "            left[i] = mono_stack[-1] if mono_stack else -1\n",
    "            mono_stack.append(i)\n",
    "        \n",
    "        while mono_stack:\n",
    "            right[mono_stack[-1]] = n\n",
    "            mono_stack.pop()\n",
    "            \n",
    "        ans = max((right[i] - left[i] -1 ) * heights[i] for i in range(n)) if n > 0 else 0\n",
    "        \n",
    "        return ans"
   ]
  },
  {
   "cell_type": "code",
   "execution_count": 6,
   "metadata": {},
   "outputs": [
    {
     "data": {
      "text/plain": [
       "16"
      ]
     },
     "execution_count": 6,
     "metadata": {},
     "output_type": "execute_result"
    }
   ],
   "source": [
    "s = Solution()\n",
    "s.largestRectangleArea([6,7,5,2,4,5,9,3])"
   ]
  },
  {
   "cell_type": "code",
   "execution_count": null,
   "metadata": {},
   "outputs": [],
   "source": []
  }
 ],
 "metadata": {
  "kernelspec": {
   "display_name": "Python 3",
   "language": "python",
   "name": "python3"
  },
  "language_info": {
   "codemirror_mode": {
    "name": "ipython",
    "version": 3
   },
   "file_extension": ".py",
   "mimetype": "text/x-python",
   "name": "python",
   "nbconvert_exporter": "python",
   "pygments_lexer": "ipython3",
   "version": "3.7.6"
  }
 },
 "nbformat": 4,
 "nbformat_minor": 4
}
