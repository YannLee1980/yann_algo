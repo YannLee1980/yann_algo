{
 "cells": [
  {
   "cell_type": "markdown",
   "metadata": {},
   "source": [
    "### 给你一个包含 n 个整数的数组 nums，判断 nums 中是否存在三个元素 a，b，c ，使得 a + b + c = 0 ？请你找出所有满足条件且不重复的三元组。\n",
    "\n",
    "注意：答案中不可以包含重复的三元组。\n",
    "\n",
    "来源：力扣（LeetCode）\n",
    "链接：https://leetcode-cn.com/problems/3sum\n",
    "著作权归领扣网络所有。商业转载请联系官方授权，非商业转载请注明出处。"
   ]
  },
  {
   "cell_type": "markdown",
   "metadata": {},
   "source": [
    "### V1.1_9.9——sorted()花费较多时间"
   ]
  },
  {
   "cell_type": "code",
   "execution_count": 1,
   "metadata": {},
   "outputs": [],
   "source": [
    "class Solution:\n",
    "    def (self, nums: list) -> list:\n",
    "        result = []\n",
    "        for i in range(0, len(nums)-2):\n",
    "            for j in range(i+1, len(nums)-1):\n",
    "                for k in range(j+1, len(nums)):\n",
    "                    if nums[i] + nums[j] + nums[k] == 0:\n",
    "                        tmp = [nums[i], nums[j], nums[k]]\n",
    "                        if len(result) == 0:\n",
    "                            result.append(tmp)\n",
    "                        else:\n",
    "                            for l in result:\n",
    "                                if sorted(l) == sorted(tmp):\n",
    "                                    break\n",
    "                                result.append(tmp)\n",
    "        return result"
   ]
  },
  {
   "cell_type": "code",
   "execution_count": 2,
   "metadata": {},
   "outputs": [
    {
     "name": "stdout",
     "output_type": "stream",
     "text": [
      "[[-1, 0, 1], [-1, 2, -1]]\n"
     ]
    }
   ],
   "source": [
    "s = Solution()\n",
    "print(s.([-1, 0, 1, 2, -1, -4]))"
   ]
  },
  {
   "cell_type": "markdown",
   "metadata": {},
   "source": [
    "### V1.2_9.9——sort()"
   ]
  },
  {
   "cell_type": "code",
   "execution_count": 12,
   "metadata": {},
   "outputs": [],
   "source": [
    "class Solution:\n",
    "    def (self, nums: list) -> list:\n",
    "        result = []\n",
    "        for i in range(0, len(nums)-2):\n",
    "            for j in range(i+1, len(nums)-1):\n",
    "                for k in range(j+1, len(nums)):\n",
    "                    if nums[i] + nums[j] + nums[k] == 0:\n",
    "                        tmp = [nums[i], nums[j], nums[k]]\n",
    "                        tmp.sort()\n",
    "                        if len(result) == 0:\n",
    "                            result.append(tmp)\n",
    "                        else:\n",
    "                            for l in result:\n",
    "                                if l == tmp:\n",
    "                                    break\n",
    "                                if l != tmp and l is result[len(result)-1]:\n",
    "                                    result.append(tmp)\n",
    "        return result"
   ]
  },
  {
   "cell_type": "code",
   "execution_count": 13,
   "metadata": {},
   "outputs": [
    {
     "name": "stdout",
     "output_type": "stream",
     "text": [
      "[[-1, 0, 1], [-1, -1, 2]]\n"
     ]
    }
   ],
   "source": [
    "s = Solution()\n",
    "print(s.([-1, 0, 1, 2, -1, -4]))"
   ]
  },
  {
   "cell_type": "markdown",
   "metadata": {},
   "source": [
    "### V1.3_9.9_两边夹逼法"
   ]
  },
  {
   "cell_type": "code",
   "execution_count": 27,
   "metadata": {},
   "outputs": [],
   "source": [
    "class Solution:\n",
    "    def (self, nums: [int]) -> [[int]]:\n",
    "        nums.sort() # 排序\n",
    "        res, k = [], 0\n",
    "        for k in range(len(nums)-2):\n",
    "            if nums[k] > 0 : break  # 因为：nums[k] < nums[i] < nums[j]\n",
    "            if k > 0 and nums[k] == nums[k-1]: continue  # 跳过重复元素\n",
    "            i , j = k + 1 , len(nums)-1\n",
    "            while i < j: # 双指针操作\n",
    "                s = nums[k] + nums[i] + nums[j]\n",
    "                if  s < 0:\n",
    "                    i += 1\n",
    "                    while i < j and nums[i] == nums[i-1]: i += 1 # 跳过重复元素\n",
    "                elif s > 0:\n",
    "                    j -= 1\n",
    "                    while i < j and nums[j] == nums[j+1]: j -= 1 # 跳过重复元素\n",
    "                else:\n",
    "                    res.append([nums[k], nums[i], nums[j]])\n",
    "                    i += 1\n",
    "                    j -= 1\n",
    "                    while i < j and nums[i] == nums[i-1]: i += 1\n",
    "                    while i < j and nums[j] == nums[j+1]: j -= 1\n",
    "        return res"
   ]
  },
  {
   "cell_type": "code",
   "execution_count": 28,
   "metadata": {},
   "outputs": [
    {
     "name": "stdout",
     "output_type": "stream",
     "text": [
      "[[-1, -1, 2], [-1, 0, 1]]\n"
     ]
    }
   ],
   "source": [
    "s = Solution()\n",
    "print(s.([-1, 0, 1, 2, -1, -4]))"
   ]
  },
  {
   "cell_type": "code",
   "execution_count": 30,
   "metadata": {},
   "outputs": [
    {
     "name": "stdout",
     "output_type": "stream",
     "text": [
      "[[-1, 0, 1]]\n"
     ]
    }
   ],
   "source": [
    "s = Solution()\n",
    "print(s.([1,-1,-1,0]))"
   ]
  },
  {
   "cell_type": "markdown",
   "metadata": {},
   "source": [
    "#### V2.0_9.10"
   ]
  },
  {
   "cell_type": "code",
   "execution_count": 8,
   "metadata": {},
   "outputs": [],
   "source": [
    "class Solution:\n",
    "    def (self, nums: list) -> list:\n",
    "        nums.sort()\n",
    "        res = []\n",
    "        for k in range(len(nums) - 2):\n",
    "            if nums[k] > 0: break\n",
    "            if k > 0 and nums[k-1] == nums[k]: continue\n",
    "            i , j = k + 1 , len(nums) - 1\n",
    "            while i < j:\n",
    "                s = nums[k] + nums[i] + nums[j]\n",
    "                if s < 0:\n",
    "                    i += 1\n",
    "                    while i < j and nums[i-1] == nums[i]: i += 1\n",
    "                elif s > 0:\n",
    "                    j -= 1\n",
    "                    while i < j and nums[j] == nums[j+1]: j -= 1\n",
    "                else:\n",
    "                    res.append([nums[k], nums[i], nums[j]])\n",
    "                    i += 1\n",
    "                    j -= 1\n",
    "                    while i < j and nums[i-1] == nums[i]: i += 1\n",
    "                    while i < j and nums[j] == nums[j+1]: j -= 1\n",
    "                    \n",
    "        return res"
   ]
  },
  {
   "cell_type": "code",
   "execution_count": 9,
   "metadata": {},
   "outputs": [
    {
     "name": "stdout",
     "output_type": "stream",
     "text": [
      "[[-1, -1, 2], [-1, 0, 1]]\n"
     ]
    }
   ],
   "source": [
    "s = Solution()\n",
    "print(s.([-1, 0, 1, 2, -1, -4]))"
   ]
  },
  {
   "cell_type": "code",
   "execution_count": 10,
   "metadata": {},
   "outputs": [
    {
     "name": "stdout",
     "output_type": "stream",
     "text": [
      "[[-1, 0, 1]]\n"
     ]
    }
   ],
   "source": [
    "s = Solution()\n",
    "print(s.([1,-1,-1,0]))"
   ]
  },
  {
   "cell_type": "markdown",
   "metadata": {},
   "source": [
    "#### V3.0_9.16"
   ]
  },
  {
   "cell_type": "code",
   "execution_count": 10,
   "metadata": {},
   "outputs": [],
   "source": [
    "class Solution:\n",
    "    def (self, nums: list) -> list:\n",
    "        nums.sort()\n",
    "        res = []\n",
    "        \n",
    "        for k in range(len(nums) - 2):\n",
    "            if nums[k] > 0: break\n",
    "            if k > 0 and nums[k-1] == nums[k]: continue\n",
    "            i , j = k + 1 , len(nums) - 1\n",
    "            while i < j:\n",
    "                s = nums[i] + nums[j] + nums[k]\n",
    "                if s < 0:\n",
    "                    i += 1\n",
    "                    while i < j and nums[i] == nums[i-1]: i += 1\n",
    "                elif s > 0:\n",
    "                    j -= 1\n",
    "                    while i < j and nums[j] == nums[j+1]: j -= 1\n",
    "                else:\n",
    "                    res.append([nums[i], nums[j], nums[k]])\n",
    "                    i += 1\n",
    "                    j -= 1\n",
    "                    while i < j and nums[i] == nums[i-1]: i += 1\n",
    "                    while i < j and nums[j] == nums[j+1]: j -= 1\n",
    "            \n",
    "        return res"
   ]
  },
  {
   "cell_type": "code",
   "execution_count": 11,
   "metadata": {},
   "outputs": [
    {
     "name": "stdout",
     "output_type": "stream",
     "text": [
      "[[-1, 2, -1], [0, 1, -1]]\n"
     ]
    }
   ],
   "source": [
    "s = Solution()\n",
    "print(s.([-1, 0, 1, 2, -1, -4]))"
   ]
  },
  {
   "cell_type": "code",
   "execution_count": null,
   "metadata": {},
   "outputs": [],
   "source": []
  }
 ],
 "metadata": {
  "kernelspec": {
   "display_name": "Python 3",
   "language": "python",
   "name": "python3"
  },
  "language_info": {
   "codemirror_mode": {
    "name": "ipython",
    "version": 3
   },
   "file_extension": ".py",
   "mimetype": "text/x-python",
   "name": "python",
   "nbconvert_exporter": "python",
   "pygments_lexer": "ipython3",
   "version": "3.7.6"
  }
 },
 "nbformat": 4,
 "nbformat_minor": 4
}
