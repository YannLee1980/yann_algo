{
 "cells": [
  {
   "cell_type": "markdown",
   "metadata": {},
   "source": [
    "### 22. 括号生成\n",
    "https://leetcode-cn.com/problems/generate-parentheses/\n",
    "\n",
    "数字 n 代表生成括号的对数，请你设计一个函数，用于能够生成所有可能的并且 有效的 括号组合。\n",
    "\n",
    "示例：\n",
    "\n",
    "输入：n = 3\n",
    "输出：[\n",
    "       \"((()))\",\n",
    "       \"(()())\",\n",
    "       \"(())()\",\n",
    "       \"()(())\",\n",
    "       \"()()()\"\n",
    "     ]"
   ]
  },
  {
   "cell_type": "markdown",
   "metadata": {},
   "source": [
    "#### V1.1"
   ]
  },
  {
   "cell_type": "code",
   "execution_count": 1,
   "metadata": {},
   "outputs": [],
   "source": [
    "class Solution:\n",
    "    def _generate(self, level, max, s):\n",
    "        # recursion terminator:\n",
    "        if level >= max:\n",
    "            print(s)\n",
    "            return None\n",
    "\n",
    "        # process logic in current level:\n",
    "        s1 = s + '('\n",
    "        s2 = s + ')'\n",
    "\n",
    "        # drill down to next level:\n",
    "        self._generate(level+1, max, s1)\n",
    "        self._generate(level+1, max, s2)\n",
    "\n",
    "        # reverse the current level status if needed\n",
    "\n",
    "    def generateParenthesis(self, n: int):\n",
    "        self._generate(0, n * 2, '')"
   ]
  },
  {
   "cell_type": "code",
   "execution_count": 2,
   "metadata": {},
   "outputs": [
    {
     "name": "stdout",
     "output_type": "stream",
     "text": [
      "((((\n",
      "((()\n",
      "(()(\n",
      "(())\n",
      "()((\n",
      "()()\n",
      "())(\n",
      "()))\n",
      ")(((\n",
      ")(()\n",
      ")()(\n",
      ")())\n",
      "))((\n",
      "))()\n",
      ")))(\n",
      "))))\n"
     ]
    }
   ],
   "source": [
    "s = Solution()\n",
    "s.generateParenthesis(2)"
   ]
  },
  {
   "cell_type": "markdown",
   "metadata": {},
   "source": [
    "#### V2.0"
   ]
  },
  {
   "cell_type": "code",
   "execution_count": 3,
   "metadata": {},
   "outputs": [],
   "source": [
    "class Solution:\n",
    "    def _generate(self, left, right, n, s):\n",
    "        # recursion terminator:\n",
    "        if  left == n and right == n:\n",
    "            print(s)\n",
    "            return None\n",
    "\n",
    "        # process logic in current level:\n",
    "        # s1 = s + '('\n",
    "        # s2 = s + ')'\n",
    "\n",
    "        # drill down to next level:\n",
    "        # 判断括号逻辑合理才能加入：\n",
    "        if left < n: # 左括号数不能超过n\n",
    "            self._generate(left + 1, right, n, s + '(')\n",
    "        if right < left: # 右括号数小于左括号时就可以加入\n",
    "            self._generate(left, right + 1, n, s + ')')\n",
    "\n",
    "        # reverse the current level status if needed\n",
    "\n",
    "    def generateParenthesis(self, n: int):\n",
    "        self._generate(0, 0, n, '')\n"
   ]
  },
  {
   "cell_type": "code",
   "execution_count": 4,
   "metadata": {},
   "outputs": [
    {
     "name": "stdout",
     "output_type": "stream",
     "text": [
      "(())\n",
      "()()\n"
     ]
    }
   ],
   "source": [
    "s = Solution()\n",
    "s.generateParenthesis(2)"
   ]
  },
  {
   "cell_type": "markdown",
   "metadata": {},
   "source": [
    "#### v1.2"
   ]
  },
  {
   "cell_type": "code",
   "execution_count": 11,
   "metadata": {},
   "outputs": [
    {
     "name": "stdout",
     "output_type": "stream",
     "text": [
      "111\n",
      "112\n",
      "121\n",
      "122\n",
      "211\n",
      "212\n",
      "221\n",
      "222\n"
     ]
    }
   ],
   "source": [
    "class Solution:\n",
    "    def _generate(self, level, max, s):\n",
    "        # recursion terminator:\n",
    "        if level >= max:\n",
    "            print(s)\n",
    "            return None\n",
    "\n",
    "        # process logic in current level:\n",
    "\n",
    "        # drill down to next level:\n",
    "        self._generate(level+1, max, s + '(')\n",
    "        self._generate(level+1, max, s + ')')\n",
    "\n",
    "        # reverse the current level status if needed\n",
    "\n",
    "    def generateParenthesis(self, n: int):\n",
    "        self._generate(0, n, '')\n",
    "        \n",
    "s = Solution()\n",
    "s.generateParenthesis(3)"
   ]
  },
  {
   "cell_type": "code",
   "execution_count": 14,
   "metadata": {},
   "outputs": [
    {
     "name": "stdout",
     "output_type": "stream",
     "text": [
      "((\n",
      "()\n",
      ")(\n",
      "))\n"
     ]
    }
   ],
   "source": [
    "class Solution:\n",
    "    def _generate(self, level, max, s):\n",
    "        if level >= max:\n",
    "            print(s)\n",
    "            return None\n",
    "        self._generate(level+1, max, s + '(')\n",
    "        self._generate(level+1, max, s + ')')\n",
    "\n",
    "    def generateParenthesis(self, n: int):\n",
    "        self._generate(0, n, '')\n",
    "        \n",
    "s = Solution()\n",
    "s.generateParenthesis(2)"
   ]
  },
  {
   "cell_type": "code",
   "execution_count": 15,
   "metadata": {},
   "outputs": [
    {
     "name": "stdout",
     "output_type": "stream",
     "text": [
      "((\n",
      "()\n",
      ")(\n",
      "))\n"
     ]
    }
   ],
   "source": [
    "class Solution:\n",
    "    def _generate(self, level, max, s):\n",
    "        if level >= max:\n",
    "            print(s)\n",
    "            return None\n",
    "        for c in ['(', ')']:\n",
    "            self._generate(level+1, max, s + c)\n",
    "\n",
    "    def generateParenthesis(self, n: int):\n",
    "        self._generate(0, n, '')\n",
    "        \n",
    "s = Solution()\n",
    "s.generateParenthesis(2)"
   ]
  },
  {
   "cell_type": "code",
   "execution_count": null,
   "metadata": {},
   "outputs": [],
   "source": []
  }
 ],
 "metadata": {
  "kernelspec": {
   "display_name": "Python 3",
   "language": "python",
   "name": "python3"
  },
  "language_info": {
   "codemirror_mode": {
    "name": "ipython",
    "version": 3
   },
   "file_extension": ".py",
   "mimetype": "text/x-python",
   "name": "python",
   "nbconvert_exporter": "python",
   "pygments_lexer": "ipython3",
   "version": "3.7.6"
  }
 },
 "nbformat": 4,
 "nbformat_minor": 4
}
