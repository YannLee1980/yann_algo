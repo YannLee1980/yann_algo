{
 "cells": [
  {
   "cell_type": "markdown",
   "metadata": {},
   "source": [
    "### 144. 二叉树的前序遍历\n",
    "\n",
    "https://leetcode-cn.com/problems/binary-tree-preorder-traversal/\n",
    "    \n",
    "给定一个二叉树，返回它的 前序 遍历。\n",
    "\n",
    " 示例:\n",
    "\n",
    "输入: [1,null,2,3]  \n",
    "   1\n",
    "    \\\n",
    "     2\n",
    "    /\n",
    "   3 \n",
    "\n",
    "输出: [1,2,3]\n",
    "进阶: 递归算法很简单，你可以通过迭代算法完成吗？\n",
    "\n"
   ]
  },
  {
   "cell_type": "markdown",
   "metadata": {},
   "source": [
    "#### V1.0_9.16"
   ]
  },
  {
   "cell_type": "code",
   "execution_count": 1,
   "metadata": {},
   "outputs": [],
   "source": [
    "# Definition for a binary tree node.\n",
    "class TreeNode:\n",
    "    def __init__(self, x):\n",
    "        self.val = x\n",
    "        self.left = None\n",
    "        self.right = None\n",
    "\n",
    "class Solution:\n",
    "    def preorderTraversal(self, root: TreeNode) -> list:\n",
    "        def preorder(root, traverse_path):\n",
    "            if not root:\n",
    "                return\n",
    "            traverse_path.append(root.val)\n",
    "            preorder(root.left, traverse_path)\n",
    "            preorder(root.right, traverse_path)\n",
    "            \n",
    "        traverse_path = []\n",
    "        preorder(root, traverse_path)\n",
    "        return traverse_path"
   ]
  },
  {
   "cell_type": "code",
   "execution_count": null,
   "metadata": {},
   "outputs": [],
   "source": []
  }
 ],
 "metadata": {
  "kernelspec": {
   "display_name": "Python 3",
   "language": "python",
   "name": "python3"
  },
  "language_info": {
   "codemirror_mode": {
    "name": "ipython",
    "version": 3
   },
   "file_extension": ".py",
   "mimetype": "text/x-python",
   "name": "python",
   "nbconvert_exporter": "python",
   "pygments_lexer": "ipython3",
   "version": "3.7.6"
  }
 },
 "nbformat": 4,
 "nbformat_minor": 4
}
