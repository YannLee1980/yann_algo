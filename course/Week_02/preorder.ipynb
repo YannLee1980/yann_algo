{
 "cells": [
  {
   "cell_type": "markdown",
   "metadata": {},
   "source": [
    "### 589. N叉树的前序遍历\n",
    "\n",
    "\n",
    "给定一个 N 叉树，返回其节点值的前序遍历。\n",
    "\n",
    "例如，给定一个 3叉树 :\n",
    "\n",
    " \n",
    "\n",
    "\n",
    "\n",
    " \n",
    "\n",
    "返回其前序遍历: [1,3,5,6,2,4]。"
   ]
  },
  {
   "cell_type": "markdown",
   "metadata": {},
   "source": [
    "#### V1.0_9.16"
   ]
  },
  {
   "cell_type": "code",
   "execution_count": 1,
   "metadata": {},
   "outputs": [],
   "source": [
    "\n",
    "# Definition for a Node.\n",
    "class Node:\n",
    "    def __init__(self, val=None, children=None):\n",
    "        self.val = val\n",
    "        self.children = children\n",
    "\n",
    "\n",
    "class Solution:\n",
    "    def preorder(self, root: 'Node') -> list:\n",
    "        def preorder(root, traverse_path):\n",
    "            if not root:\n",
    "                return \n",
    "            traverse_path.append(root.val)\n",
    "            for child in root.children:\n",
    "                preorder(child, traverse_path)\n",
    "                \n",
    "        traverse_path = []\n",
    "        preorder(root, traverse_path)\n",
    "        return traverse_path"
   ]
  },
  {
   "cell_type": "code",
   "execution_count": null,
   "metadata": {},
   "outputs": [],
   "source": []
  }
 ],
 "metadata": {
  "kernelspec": {
   "display_name": "Python 3",
   "language": "python",
   "name": "python3"
  },
  "language_info": {
   "codemirror_mode": {
    "name": "ipython",
    "version": 3
   },
   "file_extension": ".py",
   "mimetype": "text/x-python",
   "name": "python",
   "nbconvert_exporter": "python",
   "pygments_lexer": "ipython3",
   "version": "3.7.6"
  }
 },
 "nbformat": 4,
 "nbformat_minor": 4
}
