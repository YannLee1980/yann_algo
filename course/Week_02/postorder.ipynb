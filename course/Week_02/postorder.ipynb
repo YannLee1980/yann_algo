{
 "cells": [
  {
   "cell_type": "markdown",
   "metadata": {},
   "source": [
    "### 590. N叉树的后序遍历\n",
    "https://leetcode-cn.com/problems/n-ary-tree-postorder-traversal/\n",
    "\n",
    "给定一个 N 叉树，返回其节点值的后序遍历。\n",
    "\n",
    "例如，给定一个 3叉树 :\n",
    "\n",
    "\n",
    "返回其后序遍历: [5,6,3,2,4,1].\n",
    "\n"
   ]
  },
  {
   "cell_type": "markdown",
   "metadata": {},
   "source": [
    "#### V1.0_9.16"
   ]
  },
  {
   "cell_type": "code",
   "execution_count": 3,
   "metadata": {},
   "outputs": [],
   "source": [
    "\n",
    "# Definition for a Node.\n",
    "class Node:\n",
    "    def __init__(self, val=None, children=None):\n",
    "        self.val = val\n",
    "        self.children = children\n",
    "\n",
    "class Solution:\n",
    "    def postorder(self, root: 'Node') -> list:\n",
    "        def postorder(root, traverse_path):\n",
    "            if not root:\n",
    "                return\n",
    "            for child in root.children:\n",
    "                postorder(child, traverse_path)\n",
    "            traverse_path.append(root.val)\n",
    "            \n",
    "        traverse_path = []\n",
    "        postorder(root, traverse_path)\n",
    "        return traverse_path"
   ]
  },
  {
   "cell_type": "code",
   "execution_count": null,
   "metadata": {},
   "outputs": [],
   "source": []
  }
 ],
 "metadata": {
  "kernelspec": {
   "display_name": "Python 3",
   "language": "python",
   "name": "python3"
  },
  "language_info": {
   "codemirror_mode": {
    "name": "ipython",
    "version": 3
   },
   "file_extension": ".py",
   "mimetype": "text/x-python",
   "name": "python",
   "nbconvert_exporter": "python",
   "pygments_lexer": "ipython3",
   "version": "3.7.6"
  }
 },
 "nbformat": 4,
 "nbformat_minor": 4
}
