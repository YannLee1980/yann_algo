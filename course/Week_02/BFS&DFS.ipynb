{
 "cells": [
  {
   "cell_type": "code",
   "execution_count": 1,
   "metadata": {},
   "outputs": [],
   "source": [
    "grid = {\n",
    "    'A': ['B', 'C'],\n",
    "    'B': ['A', 'C', 'D'],\n",
    "    'C': ['A', 'B', 'D', 'E'],\n",
    "    'D': ['B', 'C', 'E', 'F'],\n",
    "    'E': ['C', 'D'],\n",
    "    'F': ['D']\n",
    "}"
   ]
  },
  {
   "cell_type": "markdown",
   "metadata": {},
   "source": [
    "## BFS广度优先："
   ]
  },
  {
   "cell_type": "markdown",
   "metadata": {},
   "source": [
    "#### 入队列前马上add："
   ]
  },
  {
   "cell_type": "code",
   "execution_count": 13,
   "metadata": {},
   "outputs": [],
   "source": [
    "def bfs(grid, s):\n",
    "    queue = []\n",
    "    queue.append(s)\n",
    "    visited = set() ## 注意：此处必须是set,否则一个节点将会重复遍历！！\n",
    "    visited.add(s)\n",
    "    while queue:\n",
    "        vertex = queue.pop(0)\n",
    "        nodes = grid[vertex]\n",
    "        for n in nodes:\n",
    "            if n not in visited:\n",
    "                queue.append(n)\n",
    "                visited.add(n)\n",
    "        print(f'{vertex}', end = '->')\n",
    "    print('end')"
   ]
  },
  {
   "cell_type": "code",
   "execution_count": 14,
   "metadata": {},
   "outputs": [
    {
     "name": "stdout",
     "output_type": "stream",
     "text": [
      "A->B->C->D->E->F->end\n"
     ]
    }
   ],
   "source": [
    "bfs(grid, 'A')"
   ]
  },
  {
   "cell_type": "code",
   "execution_count": 15,
   "metadata": {},
   "outputs": [
    {
     "name": "stdout",
     "output_type": "stream",
     "text": [
      "E->C->D->A->B->F->end\n"
     ]
    }
   ],
   "source": [
    "bfs(grid, 'E')"
   ]
  },
  {
   "cell_type": "markdown",
   "metadata": {},
   "source": [
    "## DFS深度优先："
   ]
  },
  {
   "cell_type": "code",
   "execution_count": 25,
   "metadata": {},
   "outputs": [],
   "source": [
    "def dfs(grid, s):\n",
    "    stack = []\n",
    "    stack.append(s)\n",
    "    visited = set() ## 注意：此处必须是set,否则一个节点将会重复遍历！！\n",
    "    visited.add(s)\n",
    "    \n",
    "    while stack:\n",
    "        vertex = stack.pop()\n",
    "        print(f'{vertex}', end = '->')\n",
    "        nodes = grid[vertex]\n",
    "        for n in nodes:\n",
    "            if n not in visited:\n",
    "                stack.append(n)\n",
    "                visited.add(n)\n",
    "        \n",
    "    print('end')"
   ]
  },
  {
   "cell_type": "code",
   "execution_count": 26,
   "metadata": {},
   "outputs": [
    {
     "name": "stdout",
     "output_type": "stream",
     "text": [
      "A->C->E->D->F->B->end\n"
     ]
    }
   ],
   "source": [
    "dfs(grid, 'A')"
   ]
  },
  {
   "cell_type": "code",
   "execution_count": 27,
   "metadata": {},
   "outputs": [
    {
     "name": "stdout",
     "output_type": "stream",
     "text": [
      "B->D->F->E->C->A->end\n"
     ]
    }
   ],
   "source": [
    "dfs(grid, 'B')"
   ]
  },
  {
   "cell_type": "code",
   "execution_count": null,
   "metadata": {},
   "outputs": [],
   "source": []
  }
 ],
 "metadata": {
  "kernelspec": {
   "display_name": "Python 3",
   "language": "python",
   "name": "python3"
  },
  "language_info": {
   "codemirror_mode": {
    "name": "ipython",
    "version": 3
   },
   "file_extension": ".py",
   "mimetype": "text/x-python",
   "name": "python",
   "nbconvert_exporter": "python",
   "pygments_lexer": "ipython3",
   "version": "3.7.6"
  }
 },
 "nbformat": 4,
 "nbformat_minor": 4
}
